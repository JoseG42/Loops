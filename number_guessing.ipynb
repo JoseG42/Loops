{
 "cells": [
  {
   "cell_type": "code",
   "execution_count": 9,
   "id": "430ac0fa",
   "metadata": {},
   "outputs": [
    {
     "name": "stdout",
     "output_type": "stream",
     "text": [
      "Congratulations! You guessed it right.\n"
     ]
    }
   ],
   "source": [
    "# set a random number between 1 and 100\n",
    "answer = 43\n",
    "# guess is an integer\n",
    "guess = int\n",
    "# make a list to hold the guesses\n",
    "guesses = []\n",
    "# use a for loop to get 5 guesses\n",
    "for guess in range(len(guesses), 5):\n",
    "    # get a guess from the user\n",
    "    guess = int(input(\"Guess a number from 1 to 100: \"))\n",
    "    # add the guess to the list of guesses\n",
    "    guesses.append(guess)\n",
    "    # check if the guess is correct\n",
    "    if guess == answer:\n",
    "        print(\"Congratulations! You guessed it right.\")\n",
    "        break"
   ]
  },
  {
   "cell_type": "code",
   "execution_count": 10,
   "id": "63d167b6",
   "metadata": {},
   "outputs": [
    {
     "name": "stdout",
     "output_type": "stream",
     "text": [
      "Your 0 guess is too low.\n",
      "Your 1 guess is too low.\n",
      "Your 2 guess is too low.\n",
      "Your 3 guess is too low.\n",
      "Your 4 guess is correct!\n"
     ]
    }
   ],
   "source": [
    "# iterate through each guess in the list of guesses\n",
    "for guess in guesses:\n",
    "    # if the guess is lower than the answer\n",
    "    if guess < answer:\n",
    "        # print the guess number and that it is too low\n",
    "        print(f\"Your {guesses.index(guess)} guess is too low.\")\n",
    "    # if the guess is higher than the answer\n",
    "    elif guess > answer:\n",
    "        # print the guess number and that it is too high\n",
    "        print(f\"Your {guesses.index(guess)} guess is too high.\")\n",
    "    # if the guess is correct\n",
    "    else:\n",
    "        # print the guess number and that it is correct\n",
    "        print(f\"Your {guesses.index(guess)} guess is correct!\")\n",
    "        break\n"
   ]
  },
  {
   "cell_type": "markdown",
   "id": "8cd30874",
   "metadata": {},
   "source": [
    "I think the first problem I had to solve was limiting the number of guesses. I don't think I fully understand the directions for the second loop \"for indexing and printing\". right now what I wrote makes a list of of the guesses in order and says if they are high or low."
   ]
  }
 ],
 "metadata": {
  "kernelspec": {
   "display_name": "Python 3",
   "language": "python",
   "name": "python3"
  },
  "language_info": {
   "codemirror_mode": {
    "name": "ipython",
    "version": 3
   },
   "file_extension": ".py",
   "mimetype": "text/x-python",
   "name": "python",
   "nbconvert_exporter": "python",
   "pygments_lexer": "ipython3",
   "version": "3.11.9"
  }
 },
 "nbformat": 4,
 "nbformat_minor": 5
}
