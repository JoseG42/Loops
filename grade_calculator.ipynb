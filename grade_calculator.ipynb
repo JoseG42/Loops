{
 "cells": [
  {
   "cell_type": "code",
   "execution_count": 17,
   "id": "6c45ba3e",
   "metadata": {},
   "outputs": [
    {
     "name": "stdout",
     "output_type": "stream",
     "text": [
      "[66, 89, 78, 67, 44, 11, 83, 98, 87]\n"
     ]
    }
   ],
   "source": [
    "# make an empty list of class grades\n",
    "class_grades = []\n",
    "# make a grade integer variable\n",
    "grade = int\n",
    "# while true\n",
    "while True:\n",
    "    # ask for a grade\n",
    "    grade = input(\"Enter grades as a whole number out of one hundred (or enter a negative number to finish): \")\n",
    "    # make grade an integer\n",
    "    grade = int(grade)\n",
    "    # if the grade is a negative number, break the loop\n",
    "    if grade < 0:\n",
    "        break\n",
    "    # append the grade to the class_grades list\n",
    "    class_grades.append(grade)\n",
    "# print the class_grades list\n",
    "print(class_grades)"
   ]
  },
  {
   "cell_type": "code",
   "execution_count": null,
   "id": "88c1b450",
   "metadata": {},
   "outputs": [],
   "source": [
    "# make variables for class_average, passing_students, and failing_students\n",
    "class_average = 0\n",
    "passing_students = 0\n",
    "failing_students = 0\n",
    "# for grade in class_grades\n",
    "for grade in class_grades :\n",
    "    # add the grade to class_average\n",
    "    # I think I can add all the grades here and divide later\n",
    "    class_average += grade\n",
    "    # if grade is greter than 75    \n",
    "# divide class_average by the number of grades\n",
    "class_average /= len(class_grades)\n"
   ]
  },
  {
   "cell_type": "code",
   "execution_count": 20,
   "id": "009a5d02",
   "metadata": {},
   "outputs": [
    {
     "name": "stdout",
     "output_type": "stream",
     "text": [
      "Student 1 has a failing grade of 66.\n",
      "Student 2 has a passing grade of 89.\n",
      "Student 3 has a passing grade of 78.\n",
      "Student 4 has a failing grade of 67.\n",
      "Student 5 has a failing grade of 44.\n",
      "Student 6 has a failing grade of 11.\n",
      "Student 7 has a passing grade of 83.\n",
      "Student 8 has a passing grade of 98.\n",
      "Student 9 has a passing grade of 87.\n",
      "The class average is 69.22222222222223\n",
      "The number of passing students is 5\n",
      "The number of failing students is 4\n"
     ]
    }
   ],
   "source": [
    "# for grade in class_grades:\n",
    "for grade in enumerate(class_grades):\n",
    "    if grade[1] > 75:\n",
    "        # print that the grade is a passing grade\n",
    "        print(f\"Student {grade[0]+1} has a passing grade of {grade[1]}.\")\n",
    "        # increment passing_students\n",
    "        passing_students += 1\n",
    "    else:\n",
    "        # print that the grade is a failing grade\n",
    "        print(f\"Student {grade[0]+1} has a failing grade of {grade[1]}.\")\n",
    "        # increment failing_students\n",
    "        failing_students += 1\n",
    "# print the class average\n",
    "print(\"The class average is\", class_average)\n",
    "# if class_average is greater than 80\n",
    "if class_average > 80:\n",
    "    # print This is a high achieving class.\n",
    "    print(\"This is a high achieving class.\")\n",
    "# print the number of passing students\n",
    "print(\"The number of passing students is\", passing_students)\n",
    "# print the number of failing students\n",
    "print(\"The number of failing students is\", failing_students)"
   ]
  },
  {
   "cell_type": "markdown",
   "id": "2c151525",
   "metadata": {},
   "source": [
    "the grade returned from the input function is a string so it has to be made an integer before using less than. \n",
    "At first I tried making my second loop also have the function of the third loop, that failed because I didn't understand how enumerate returned a tuple and how to access each value in that tuple (the index and the original value)\n",
    "Looking at it now I think there are a couple solutions I can use to merge all my loops back into one or at least loops two and three.\n",
    "I tested the calculation of the average by inputing random grades and runing the calculations by myself."
   ]
  }
 ],
 "metadata": {
  "kernelspec": {
   "display_name": "Python 3",
   "language": "python",
   "name": "python3"
  },
  "language_info": {
   "codemirror_mode": {
    "name": "ipython",
    "version": 3
   },
   "file_extension": ".py",
   "mimetype": "text/x-python",
   "name": "python",
   "nbconvert_exporter": "python",
   "pygments_lexer": "ipython3",
   "version": "3.11.9"
  }
 },
 "nbformat": 4,
 "nbformat_minor": 5
}
