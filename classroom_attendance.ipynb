{
 "cells": [
  {
   "cell_type": "code",
   "execution_count": 1,
   "id": "e6f0b5d7",
   "metadata": {},
   "outputs": [
    {
     "name": "stdout",
     "output_type": "stream",
     "text": [
      "Hello\n",
      "joe     absent\n",
      "kat     absent\n",
      "sam     absent\n",
      "ERROR: sam is already in the list. Exiting loop.\n"
     ]
    }
   ],
   "source": [
    "# welcome the user\n",
    "print('Hello')\n",
    "# make a list of student names\n",
    "students = []\n",
    "# make a list of attendance status\n",
    "attendance = []\n",
    "# make a variable 'student name'\n",
    "# I tried erasing this line, without it the computer remebers the last name entered\n",
    "# if that name was 'done' then the loop would not run\n",
    "student_name = ''\n",
    "# make a variable 'attendance status'\n",
    "attendance_status = ''\n",
    "# loop until the user enters 'done'\n",
    "while student_name != 'done':\n",
    "    # ask the user for a student name\n",
    "    student_name = input('Enter student name (or \"done\" to finish): ')\n",
    "    # if the user entered a name that's already in the list\n",
    "    if student_name in students:\n",
    "        # print an error message and exit the loop\n",
    "        print(f'ERROR: {student_name} is already in the list. Exiting loop.')\n",
    "        break\n",
    "    # ask the user for attendance status\n",
    "    attendance_status = input(f'Enter attendance status for {student_name} (present/absent): ')\n",
    "    # add the student name and attendance status to their respective lists\n",
    "    students.append(student_name)\n",
    "    attendance.append(attendance_status)\n",
    "    # print name and attendance status\n",
    "    print( student_name, '   ', attendance_status)"
   ]
  },
  {
   "cell_type": "markdown",
   "id": "17280350",
   "metadata": {},
   "source": [
    "I couldn't get the if... break condition to work at first, didn't remember the in condition. I tried using a for loop to look at all the names in the list, then if name == student_name break, but that would break the for loop, not the while loop. The current loop will finish and ask for attendance status, even after 'done' is input. I could add an if student_name == 'done' break, but I like it this way. "
   ]
  },
  {
   "cell_type": "code",
   "execution_count": 2,
   "id": "073d8590",
   "metadata": {},
   "outputs": [
    {
     "name": "stdout",
     "output_type": "stream",
     "text": [
      "['joe', 'kat', 'sam']\n",
      "['absent', 'absent', 'absent']\n",
      "sam\n"
     ]
    }
   ],
   "source": [
    "print(students)\n",
    "print(attendance)\n",
    "print(student_name)"
   ]
  }
 ],
 "metadata": {
  "kernelspec": {
   "display_name": "Python 3",
   "language": "python",
   "name": "python3"
  },
  "language_info": {
   "codemirror_mode": {
    "name": "ipython",
    "version": 3
   },
   "file_extension": ".py",
   "mimetype": "text/x-python",
   "name": "python",
   "nbconvert_exporter": "python",
   "pygments_lexer": "ipython3",
   "version": "3.11.9"
  }
 },
 "nbformat": 4,
 "nbformat_minor": 5
}
